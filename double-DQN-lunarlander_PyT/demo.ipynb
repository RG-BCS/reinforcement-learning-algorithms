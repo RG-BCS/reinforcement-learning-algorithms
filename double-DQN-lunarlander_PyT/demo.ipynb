{
  "nbformat": 4,
  "nbformat_minor": 0,
  "metadata": {
    "colab": {
      "provenance": []
    },
    "kernelspec": {
      "name": "python3",
      "display_name": "Python 3"
    },
    "language_info": {
      "name": "python"
    }
  },
  "cells": [
    {
      "cell_type": "markdown",
      "source": [
        "# Double Deep Q-Network (Double DQN) on LunarLander-v2\n",
        "\n",
        "This notebook demonstrates the implementation and performance of a **Double Deep Q-Network (Double DQN)** on the classic [LunarLander-v2](https://www.gymlibrary.dev/environments/box2d/lunar_lander/) environment from OpenAI Gym.\n",
        "\n",
        "Unlike vanilla DQN, Double DQN helps reduce overestimation bias by decoupling action selection and evaluation — leading to more stable training and better policy learning.\n",
        "\n",
        "---\n"
      ],
      "metadata": {
        "id": "1eYhDAVbX163"
      }
    },
    {
      "cell_type": "code",
      "source": [
        "!pip install gym==0.26.2 swig box2d box2d-kengz -q\n",
        "\n",
        "import gym\n",
        "import torch\n",
        "import torch.nn as nn\n",
        "import torch.optim as optim\n",
        "import numpy as np\n",
        "import random\n",
        "from collections import deque\n",
        "import matplotlib.pyplot as plt\n"
      ],
      "metadata": {
        "id": "O7y0C1g7X36e"
      },
      "execution_count": null,
      "outputs": []
    },
    {
      "cell_type": "markdown",
      "source": [
        "## Setting Random Seeds\n",
        "\n",
        "Ensures that your training is reproducible.\n"
      ],
      "metadata": {
        "id": "TDwd6zisYDkv"
      }
    },
    {
      "cell_type": "code",
      "source": [
        "SEED = 43\n",
        "random.seed(SEED)\n",
        "np.random.seed(SEED)\n",
        "torch.manual_seed(SEED)\n"
      ],
      "metadata": {
        "id": "eGuIv1l8YBYF"
      },
      "execution_count": null,
      "outputs": []
    },
    {
      "cell_type": "markdown",
      "source": [
        "## Define the Q-Network\n",
        "\n",
        "A simple feed-forward neural network with one hidden layer.\n"
      ],
      "metadata": {
        "id": "C0oZ0f37YJDQ"
      }
    },
    {
      "cell_type": "code",
      "source": [
        "class QT_Network(nn.Module):\n",
        "    def __init__(self, input_dim, output_dim):\n",
        "        super().__init__()\n",
        "        self.policy_model = nn.Sequential(\n",
        "            nn.Linear(input_dim, 128),\n",
        "            nn.ReLU(),\n",
        "            nn.Linear(128, output_dim)\n",
        "        )\n",
        "\n",
        "    def forward(self, x):\n",
        "        return self.policy_model(x)\n"
      ],
      "metadata": {
        "id": "mlGnqMRRYM5l"
      },
      "execution_count": null,
      "outputs": []
    },
    {
      "cell_type": "markdown",
      "source": [
        "## Evaluation Function\n",
        "\n",
        "This function tests the agent after training by running multiple episodes and collecting average rewards.\n"
      ],
      "metadata": {
        "id": "IliT_QszYPyb"
      }
    },
    {
      "cell_type": "code",
      "source": [
        "def evaluate_agent(env, model, episodes=10, max_steps=1000, render=False):\n",
        "    model.eval()\n",
        "    total_rewards = []\n",
        "\n",
        "    for episode in range(episodes):\n",
        "        state, _ = env.reset()\n",
        "        episode_reward = 0\n",
        "        for _ in range(max_steps):\n",
        "            if render:\n",
        "                env.render()\n",
        "\n",
        "            state_tensor = torch.FloatTensor(state).unsqueeze(0)\n",
        "            with torch.no_grad():\n",
        "                action = torch.argmax(model(state_tensor)).item()\n",
        "\n",
        "            next_state, reward, terminated, truncated, _ = env.step(action)\n",
        "            done = terminated or truncated\n",
        "            episode_reward += reward\n",
        "            state = next_state\n",
        "            if done:\n",
        "                break\n",
        "        total_rewards.append(episode_reward)\n",
        "\n",
        "    avg_reward = np.mean(total_rewards)\n",
        "    print(f\"Average reward over {episodes} episodes: {avg_reward:.2f}\")\n",
        "    return avg_reward\n"
      ],
      "metadata": {
        "id": "f1gF8YdiYTF0"
      },
      "execution_count": null,
      "outputs": []
    },
    {
      "cell_type": "markdown",
      "source": [
        "## Training Loop (Double DQN)\n",
        "\n",
        "Here’s the core of the Double DQN algorithm.\n"
      ],
      "metadata": {
        "id": "15GUJdqdYWqU"
      }
    },
    {
      "cell_type": "code",
      "source": [
        "def training_loop(env, Q_network, target_network, loss_fn, optimizer, discounted_factor, n_episodes,\n",
        "                  epsilon_decay=0.995, epsilon_min=0.01):\n",
        "    epsilon = 1.0\n",
        "    rewards_history = []\n",
        "\n",
        "    for episode in range(n_episodes):\n",
        "        state, _ = env.reset()\n",
        "        total_reward = 0\n",
        "        done = False\n",
        "\n",
        "        while not done:\n",
        "            if np.random.rand() < epsilon:\n",
        "                action = env.action_space.sample()\n",
        "            else:\n",
        "                state_tensor = torch.FloatTensor(state).unsqueeze(0)\n",
        "                with torch.no_grad():\n",
        "                    q_vals = Q_network(state_tensor)\n",
        "                    action = torch.argmax(q_vals, dim=1).item()\n",
        "\n",
        "            next_state, reward, terminated, truncated, _ = env.step(action)\n",
        "            done = terminated or truncated\n",
        "\n",
        "            replay_buffer.append((state, action, reward, next_state, done))\n",
        "            total_reward += reward\n",
        "            state = next_state\n",
        "\n",
        "            if len(replay_buffer) >= batch_size:\n",
        "                batch = random.sample(replay_buffer, batch_size)\n",
        "                states, actions, rewards, next_states, dones = zip(*batch)\n",
        "\n",
        "                states = torch.FloatTensor(np.array(states))\n",
        "                actions = torch.LongTensor(actions).unsqueeze(1)\n",
        "                rewards = torch.FloatTensor(rewards).unsqueeze(1)\n",
        "                next_states = torch.FloatTensor(np.array(next_states))\n",
        "                dones = torch.FloatTensor(dones).unsqueeze(1)\n",
        "\n",
        "                q_values = Q_network(states).gather(1, actions)\n",
        "\n",
        "                with torch.no_grad():\n",
        "                    next_actions = Q_network(next_states).argmax(1, keepdim=True)\n",
        "                    next_q_values = target_network(next_states).gather(1, next_actions)\n",
        "                    target_q_values = rewards + (1 - dones) * discounted_factor * next_q_values\n",
        "\n",
        "                loss = loss_fn(q_values, target_q_values)\n",
        "                optimizer.zero_grad()\n",
        "                loss.backward()\n",
        "                torch.nn.utils.clip_grad_norm_(Q_network.parameters(), 1.0)\n",
        "                optimizer.step()\n",
        "\n",
        "        epsilon = max(epsilon_min, epsilon * epsilon_decay)\n",
        "\n",
        "        if episode % 10 == 0:\n",
        "            target_network.load_state_dict(Q_network.state_dict())\n",
        "\n",
        "        if episode % 50 == 0:\n",
        "            print(f\"Episode {episode}: Total Reward = {total_reward}, Epsilon = {epsilon:.3f}\")\n",
        "\n",
        "        rewards_history.append(total_reward)\n",
        "\n",
        "    return rewards_history\n"
      ],
      "metadata": {
        "id": "W0yljKBQYa6i"
      },
      "execution_count": null,
      "outputs": []
    },
    {
      "cell_type": "markdown",
      "source": [
        "## Initialize Environment and Agent\n"
      ],
      "metadata": {
        "id": "-yfJ2-ojYda1"
      }
    },
    {
      "cell_type": "code",
      "source": [
        "env = gym.make(\"LunarLander-v2\")\n",
        "obs, _ = env.reset()\n",
        "input_dim = env.observation_space.shape[0]\n",
        "output_dim = env.action_space.n\n",
        "\n",
        "# Hyperparameters\n",
        "replay_max = 10000\n",
        "learning_rate = 1e-3\n",
        "n_episodes = 1000\n",
        "epsilon_min = 0.01\n",
        "epsilon_decay = 0.995\n",
        "batch_size = 64\n",
        "discounted_factor = 0.99\n",
        "test_iters = 100\n",
        "\n",
        "replay_buffer = deque(maxlen=replay_max)\n",
        "\n",
        "Q_network = QT_Network(input_dim, output_dim)\n",
        "target_network = QT_Network(input_dim, output_dim)\n",
        "target_network.load_state_dict(Q_network.state_dict())\n",
        "target_network.eval()\n",
        "\n",
        "loss_fn = nn.SmoothL1Loss()\n",
        "optimizer = optim.Adam(Q_network.parameters(), lr=learning_rate)\n"
      ],
      "metadata": {
        "id": "lJMeoP_-Yh5c"
      },
      "execution_count": null,
      "outputs": []
    },
    {
      "cell_type": "markdown",
      "source": [
        "## Train the Agent and Evaluate\n"
      ],
      "metadata": {
        "id": "07M7FX94YkZN"
      }
    },
    {
      "cell_type": "code",
      "source": [
        "print(\"Before training:\")\n",
        "evaluate_agent(env, Q_network, episodes=test_iters)\n",
        "\n",
        "rewards = training_loop(env, Q_network, target_network, loss_fn, optimizer,\n",
        "                        discounted_factor, n_episodes, epsilon_decay, epsilon_min)\n",
        "\n",
        "print(\"\\nAfter training:\")\n",
        "evaluate_agent(env, Q_network, episodes=test_iters)\n"
      ],
      "metadata": {
        "id": "XL0U9YRHYpOR"
      },
      "execution_count": null,
      "outputs": []
    },
    {
      "cell_type": "markdown",
      "source": [
        "## Training Rewards Plot\n"
      ],
      "metadata": {
        "id": "wnBiRZS9Yr2E"
      }
    },
    {
      "cell_type": "code",
      "source": [
        "plt.figure(figsize=(12, 5))\n",
        "plt.plot(rewards, label=\"Episode Reward\")\n",
        "plt.xlabel(\"Episode\")\n",
        "plt.ylabel(\"Total Reward\")\n",
        "plt.title(\"Double DQN Training Rewards\")\n",
        "plt.legend()\n",
        "plt.grid(True)\n",
        "plt.show()\n"
      ],
      "metadata": {
        "id": "MJ2VeA8uYx2J"
      },
      "execution_count": null,
      "outputs": []
    },
    {
      "cell_type": "markdown",
      "source": [
        "## Conclusion\n",
        "\n",
        "Double DQN significantly improves training stability by decoupling action selection and evaluation — a fix to the overestimation issue in vanilla DQN.\n",
        "\n",
        "**Final Evaluation Result:**  \n",
        "- Average reward after training: ~185+\n",
        "- Demonstrates **significant improvement** over vanilla DQN baseline.\n",
        "\n",
        "For further enhancements:\n",
        "- Add prioritized experience replay\n",
        "- Try dueling DQN architecture\n",
        "- Experiment with larger networks or learning rate schedules\n",
        "\n",
        "---\n"
      ],
      "metadata": {
        "id": "WcpGlKlCYzL_"
      }
    }
  ]
}