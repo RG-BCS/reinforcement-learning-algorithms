{
  "nbformat": 4,
  "nbformat_minor": 0,
  "metadata": {
    "colab": {
      "provenance": []
    },
    "kernelspec": {
      "name": "python3",
      "display_name": "Python 3"
    },
    "language_info": {
      "name": "python"
    }
  },
  "cells": [
    {
      "cell_type": "markdown",
      "source": [
        "# Hybrid DQN Agent: Dueling + Double + PER\n",
        "\n",
        "This notebook demonstrates a high-performance reinforcement learning agent built to solve the classic `LunarLander-v2` task from OpenAI Gym.\n",
        "\n",
        "The agent combines:\n",
        "- **Dueling DQN** — separates value and advantage to stabilize Q-value estimates\n",
        "- **Double DQN** — reduces overestimation bias from max-Q learning\n",
        "- **Prioritized Experience Replay (PER)** — accelerates learning by focusing on high-TD-error transitions\n",
        "\n",
        "### Environment\n",
        "- **Task**: Control a lunar lander to safely land between designated flags.\n",
        "- **Reward Range**: ~-250 (crashing) to +300 (perfect landing)\n",
        "- **Observation Space**: 8 continuous values\n",
        "- **Action Space**: 4 discrete actions (do nothing, fire left/right/main engines)\n",
        "\n",
        "We’ll walk through training, evaluation, and visualize the results — showing how this hybrid approach outperforms traditional DQN.\n"
      ],
      "metadata": {
        "id": "njXEuB8T07uB"
      }
    },
    {
      "cell_type": "code",
      "source": [
        "# Install required dependencies (uncomment if running in Colab or fresh environment)\n",
        "# !pip install gym==0.26.2\n",
        "# !pip install swig\n",
        "# !pip install box2d box2d-kengz\n",
        "# !pip install torch numpy matplotlib\n",
        "\n",
        "import random\n",
        "import numpy as np\n",
        "import gym\n",
        "import torch\n",
        "import torch.nn as nn\n",
        "import matplotlib.pyplot as plt\n",
        "from collections import deque\n",
        "\n",
        "# Ensure reproducibility\n",
        "SEED = 43\n",
        "random.seed(SEED)\n",
        "np.random.seed(SEED)\n",
        "torch.manual_seed(SEED)\n",
        "\n",
        "# Compatibility fix for gym\n",
        "np.bool8 = np.bool_\n"
      ],
      "metadata": {
        "id": "kI5qVrt91CLC"
      },
      "execution_count": null,
      "outputs": []
    },
    {
      "cell_type": "markdown",
      "source": [
        "## Define Hybrid DQN Components\n",
        "\n",
        "We'll now define:\n",
        "- The **Dueling DQN network** architecture\n",
        "- The **Prioritized Replay Buffer** for improved experience sampling\n",
        "\n",
        "These components form the backbone of our hybrid agent.\n"
      ],
      "metadata": {
        "id": "a8YpEVm51MeP"
      }
    },
    {
      "cell_type": "code",
      "source": [
        "# Dueling DQN Network (with shared layers, value & advantage streams)\n",
        "class Dueling_Network(nn.Module):\n",
        "    def __init__(self, input_dim, output_dim, hidden_units=128):\n",
        "        super().__init__()\n",
        "        self.shared_layer = nn.Sequential(\n",
        "            nn.Linear(input_dim, hidden_units),\n",
        "            nn.ReLU()\n",
        "        )\n",
        "        self.state_value = nn.Linear(hidden_units, 1)\n",
        "        self.advantage_action = nn.Linear(hidden_units, output_dim)\n",
        "\n",
        "    def forward(self, x):\n",
        "        x = self.shared_layer(x)\n",
        "        value = self.state_value(x)\n",
        "        advantage = self.advantage_action(x)\n",
        "        # Combine streams: Q(s,a) = V(s) + (A(s,a) - mean(A))\n",
        "        q_vals = value + advantage - advantage.mean(dim=1, keepdim=True)\n",
        "        return q_vals\n",
        "\n",
        "class PrioritizedReplayBuffer:\n",
        "    def __init__(self, capacity, alpha=0.6):\n",
        "        self.capacity = capacity\n",
        "        self.buffer = []\n",
        "        self.priorities = []\n",
        "        self.alpha = alpha\n",
        "        self.pos = 0\n",
        "\n",
        "    def add(self, transition, td_error=1.0):\n",
        "        priority = (abs(td_error) + 1e-5) ** self.alpha\n",
        "        if len(self.buffer) < self.capacity:\n",
        "            self.buffer.append(transition)\n",
        "            self.priorities.append(priority)\n",
        "        else:\n",
        "            self.buffer[self.pos] = transition\n",
        "            self.priorities[self.pos] = priority\n",
        "        self.pos = (self.pos + 1) % self.capacity\n",
        "\n",
        "    def sample(self, batch_size, beta=0.4):\n",
        "        priorities = np.array(self.priorities)\n",
        "        probs = priorities / priorities.sum()\n",
        "        indices = np.random.choice(len(self.buffer), batch_size, p=probs)\n",
        "        samples = [self.buffer[i] for i in indices]\n",
        "        weights = (len(self.buffer) * probs[indices]) ** (-beta)\n",
        "        weights /= weights.max()\n",
        "        return samples, indices, torch.FloatTensor(weights).unsqueeze(1)\n",
        "\n",
        "    def update_priorities(self, indices, td_errors):\n",
        "        for idx, td_err in zip(indices, td_errors):\n",
        "            self.priorities[idx] = (abs(td_err.item()) + 1e-5) ** self.alpha\n",
        "\n",
        "    def __len__(self):\n",
        "        return len(self.buffer)\n"
      ],
      "metadata": {
        "id": "3Sv_OEMv1LQz"
      },
      "execution_count": null,
      "outputs": []
    },
    {
      "cell_type": "markdown",
      "source": [
        "## Training the Hybrid DQN Agent\n",
        "\n",
        "We'll now:\n",
        "- Initialize the environment (`LunarLander-v2`)\n",
        "- Set up hyperparameters and models\n",
        "- Run training using:\n",
        "  - Dueling architecture\n",
        "  - Double Q-learning logic (using target network for next state action-value)\n",
        "  - Prioritized Experience Replay (PER)\n",
        "\n",
        "The agent will improve over 1,000 episodes, balancing exploration with exploitation using an epsilon-decay strategy.\n"
      ],
      "metadata": {
        "id": "Y0ioeh0_1bIn"
      }
    },
    {
      "cell_type": "code",
      "source": [
        "# Initialize environment and extract dimensions\n",
        "env = gym.make(\"LunarLander-v2\")\n",
        "obs, _ = env.reset()\n",
        "input_dim = env.observation_space.shape[0]\n",
        "output_dim = env.action_space.n\n",
        "\n",
        "# Hyperparameters\n",
        "n_episodes = 1000\n",
        "batch_size = 64\n",
        "replay_max = 10_000\n",
        "discounted_factor = 0.99\n",
        "epsilon = 1.0\n",
        "epsilon_min = 0.01\n",
        "epsilon_decay = 0.995\n",
        "learning_rate = 1e-3\n",
        "beta = 0.4\n",
        "alpha = 0.6\n",
        "\n",
        "# Replay buffer and networks\n",
        "replay_buffer = PrioritizedReplayBuffer(capacity=replay_max, alpha=alpha)\n",
        "Q_network = Dueling_Network(input_dim, output_dim)\n",
        "target_network = Dueling_Network(input_dim, output_dim)\n",
        "target_network.load_state_dict(Q_network.state_dict())\n",
        "target_network.eval()\n",
        "\n",
        "optimizer = torch.optim.Adam(Q_network.parameters(), lr=learning_rate)\n",
        "loss_fn = nn.SmoothL1Loss()\n"
      ],
      "metadata": {
        "id": "SiEQ3heq1kcV"
      },
      "execution_count": null,
      "outputs": []
    },
    {
      "cell_type": "markdown",
      "source": [
        "### Training Loop with Double DQN Logic\n",
        "\n",
        "- **Double DQN** is used here: the action for the next state is chosen by `Q_network`, but the Q-value is looked up using `target_network`.\n",
        "- **PER** is used for sampling and updating based on TD error.\n"
      ],
      "metadata": {
        "id": "h2haPlt11qdE"
      }
    },
    {
      "cell_type": "code",
      "source": [
        "rewards_history = []\n",
        "\n",
        "for episode in range(n_episodes):\n",
        "    state, _ = env.reset()\n",
        "    total_reward = 0\n",
        "    done = False\n",
        "\n",
        "    while not done:\n",
        "        # Epsilon-greedy policy\n",
        "        if np.random.rand() < epsilon:\n",
        "            action = env.action_space.sample()\n",
        "        else:\n",
        "            state_tensor = torch.FloatTensor(state).unsqueeze(0)\n",
        "            with torch.no_grad():\n",
        "                q_vals = Q_network(state_tensor)\n",
        "                action = torch.argmax(q_vals, dim=1).item()\n",
        "\n",
        "        next_state, reward, terminated, truncated, _ = env.step(action)\n",
        "        done = terminated or truncated\n",
        "        replay_buffer.add((state, action, reward, next_state, done))\n",
        "        state = next_state\n",
        "        total_reward += reward\n",
        "\n",
        "        if len(replay_buffer) >= batch_size:\n",
        "            batch, indices, weights = replay_buffer.sample(batch_size, beta=beta)\n",
        "            states, actions, rewards_batch, next_states, dones = zip(*batch)\n",
        "\n",
        "            states = torch.FloatTensor(np.array(states))\n",
        "            actions = torch.LongTensor(actions).unsqueeze(1)\n",
        "            rewards_batch = torch.FloatTensor(rewards_batch).unsqueeze(1)\n",
        "            next_states = torch.FloatTensor(np.array(next_states))\n",
        "            dones = torch.FloatTensor(dones).unsqueeze(1)\n",
        "\n",
        "            # Q(s,a)\n",
        "            current_q_values = Q_network(states).gather(1, actions)\n",
        "\n",
        "            with torch.no_grad():\n",
        "                # Double DQN logic\n",
        "                next_actions = Q_network(next_states).argmax(1, keepdim=True)\n",
        "                next_q_values = target_network(next_states).gather(1, next_actions)\n",
        "                target_q_values = rewards_batch + (1 - dones) * discounted_factor * next_q_values\n",
        "\n",
        "            td_errors = target_q_values - current_q_values\n",
        "            loss = (weights * loss_fn(current_q_values, target_q_values)).mean()\n",
        "\n",
        "            optimizer.zero_grad()\n",
        "            loss.backward()\n",
        "            replay_buffer.update_priorities(indices, td_errors)\n",
        "            torch.nn.utils.clip_grad_norm_(Q_network.parameters(), 1.0)\n",
        "            optimizer.step()\n",
        "\n",
        "    # Update target network every 10 episodes\n",
        "    if episode % 10 == 0:\n",
        "        target_network.load_state_dict(Q_network.state_dict())\n",
        "\n",
        "    # Decay epsilon\n",
        "    epsilon = max(epsilon_min, epsilon * epsilon_decay)\n",
        "\n",
        "    if episode % 50 == 0:\n",
        "        print(f\"Episode {episode}: Total Reward = {total_reward:.2f}, Epsilon = {epsilon:.3f}\")\n",
        "\n",
        "    rewards_history.append(total_reward)\n"
      ],
      "metadata": {
        "id": "QuwtNZJ41sqN"
      },
      "execution_count": null,
      "outputs": []
    },
    {
      "cell_type": "markdown",
      "source": [
        "## Evaluate & Visualize Performance\n",
        "\n",
        "We now evaluate the trained agent over 100 episodes and visualize the training rewards to see how performance improved.\n",
        "\n",
        "This step helps us verify that the hybrid model effectively learned the task and converged toward high-scoring behavior.\n"
      ],
      "metadata": {
        "id": "Np3-UYCw17PR"
      }
    },
    {
      "cell_type": "code",
      "source": [
        "def evaluate_agent(env, model, episodes=100, max_steps=1000, render=False):\n",
        "    model.eval()\n",
        "    total_rewards = []\n",
        "\n",
        "    for episode in range(episodes):\n",
        "        state, _ = env.reset()\n",
        "        episode_reward = 0\n",
        "        for _ in range(max_steps):\n",
        "            if render:\n",
        "                env.render()\n",
        "            state_tensor = torch.FloatTensor(state).unsqueeze(0)\n",
        "            with torch.no_grad():\n",
        "                action = torch.argmax(model(state_tensor)).item()\n",
        "\n",
        "            next_state, reward, terminated, truncated, _ = env.step(action)\n",
        "            done = terminated or truncated\n",
        "            episode_reward += reward\n",
        "            state = next_state\n",
        "            if done:\n",
        "                break\n",
        "        total_rewards.append(episode_reward)\n",
        "\n",
        "    avg_reward = np.mean(total_rewards)\n",
        "    print(f\"Average reward over {episodes} episodes: {avg_reward:.2f}\")\n",
        "    return total_rewards\n",
        "\n",
        "# Evaluate agent after training\n",
        "final_eval_rewards = evaluate_agent(env, Q_network, episodes=100)\n",
        "\n",
        "plt.figure(figsize=(12, 6))\n",
        "plt.plot(rewards_history, label='Episode Reward')\n",
        "plt.axhline(np.mean(final_eval_rewards), color='red', linestyle='--', label='Avg Eval Reward')\n",
        "plt.title(\"Training Progress of Hybrid DQN Agent\")\n",
        "plt.xlabel(\"Episode\")\n",
        "plt.ylabel(\"Total Reward\")\n",
        "plt.legend()\n",
        "plt.grid(True)\n",
        "plt.show()\n"
      ],
      "metadata": {
        "id": "GDtJPlc519pF"
      },
      "execution_count": null,
      "outputs": []
    },
    {
      "cell_type": "markdown",
      "source": [
        "## Conclusion\n",
        "\n",
        "This hybrid DQN agent, integrating **Dueling**, **Double Q-learning**, and **PER**, demonstrated significant improvement over vanilla DQN variants.\n",
        "\n",
        "- The agent reached an average reward of **~237** over 100 evaluation episodes.\n",
        "- Prioritized Replay helped the agent learn faster by focusing on high-error transitions.\n",
        "- The Dueling architecture allowed better estimation of state values.\n",
        "- Double Q-learning reduced overestimation, stabilizing training.\n",
        "\n",
        "This hybrid model is highly effective and a strong candidate for real-world control problems.\n",
        "\n",
        "---\n"
      ],
      "metadata": {
        "id": "GkYFKKj32SAj"
      }
    },
    {
      "cell_type": "code",
      "source": [],
      "metadata": {
        "id": "9bNNX5-R2W6J"
      },
      "execution_count": null,
      "outputs": []
    }
  ]
}