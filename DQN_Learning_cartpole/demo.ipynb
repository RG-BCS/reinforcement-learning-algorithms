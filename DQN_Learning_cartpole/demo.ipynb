{
  "nbformat": 4,
  "nbformat_minor": 0,
  "metadata": {
    "colab": {
      "provenance": []
    },
    "kernelspec": {
      "name": "python3",
      "display_name": "Python 3"
    },
    "language_info": {
      "name": "python"
    }
  },
  "cells": [
    {
      "cell_type": "markdown",
      "source": [
        "# Deep Q-Network (DQN) on CartPole-v1\n",
        "\n",
        "This notebook demonstrates training and evaluating a Deep Q-Network (DQN) agent on the classic CartPole-v1 environment using PyTorch.\n",
        "\n",
        "---\n",
        "\n",
        "## Overview\n",
        "\n",
        "We will:\n",
        "- Define the Q-network and replay buffer\n",
        "- Train the DQN agent\n",
        "- Evaluate the learned policy\n",
        "- Visualize performance\n",
        "\n",
        "---\n",
        "\n",
        "Let's get started!\n"
      ],
      "metadata": {
        "id": "ILOw3WiV4zwR"
      }
    },
    {
      "cell_type": "code",
      "source": [
        "# Imports and environment setup\n",
        "import gym\n",
        "import torch\n",
        "import torch.nn as nn\n",
        "import torch.optim as optim\n",
        "import matplotlib.pyplot as plt\n",
        "from collections import deque\n",
        "import numpy as np\n",
        "\n",
        "# Make sure your dqn_agent.py and utils.py are in the same directory or installed as a package\n",
        "from dqn_agent import QNetwork, ReplayBuffer, train_dqn\n",
        "from utils import evaluate_policy\n"
      ],
      "metadata": {
        "id": "yPXyanlG45KQ"
      },
      "execution_count": null,
      "outputs": []
    },
    {
      "cell_type": "markdown",
      "source": [
        "## Hyperparameters and Environment Setup\n",
        "\n",
        "We define environment, hyperparameters, and initialize networks, optimizer, and replay buffer.\n"
      ],
      "metadata": {
        "id": "qxIVCcQS48Cd"
      }
    },
    {
      "cell_type": "code",
      "source": [
        "env = gym.make(\"CartPole-v1\")\n",
        "state_size = env.observation_space.shape[0]\n",
        "action_size = env.action_space.n\n",
        "\n",
        "num_episodes = 500\n",
        "batch_size = 64\n",
        "gamma = 0.99\n",
        "epsilon = 1.0\n",
        "epsilon_min = 0.01\n",
        "epsilon_decay = 0.995\n",
        "lr = 1e-2\n",
        "target_update_freq = 10\n",
        "test_iters = 20\n",
        "\n",
        "q_network = QNetwork(state_size, action_size)\n",
        "target_network = QNetwork(state_size, action_size)\n",
        "target_network.load_state_dict(q_network.state_dict())\n",
        "target_network.eval()\n",
        "\n",
        "optimizer = optim.Adam(q_network.parameters(), lr=lr)\n",
        "loss_fn = nn.SmoothL1Loss()\n",
        "buffer = ReplayBuffer()\n"
      ],
      "metadata": {
        "id": "J6-wUqo24_Ak"
      },
      "execution_count": null,
      "outputs": []
    },
    {
      "cell_type": "markdown",
      "source": [
        "## Evaluate Untrained Policy\n",
        "\n",
        "Let's see how the random policy performs before training.\n"
      ],
      "metadata": {
        "id": "Ne4FRPFq5B2c"
      }
    },
    {
      "cell_type": "code",
      "source": [
        "avg_reward_before = evaluate_policy(q_network, env, episodes=test_iters)\n",
        "print(f\"Average reward before training over {test_iters} episodes: {avg_reward_before:.2f}\")\n"
      ],
      "metadata": {
        "id": "lyJ9U75u5DxJ"
      },
      "execution_count": null,
      "outputs": []
    },
    {
      "cell_type": "markdown",
      "source": [
        "## Train the DQN Agent\n",
        "\n",
        "Start training the agent and observe episodic rewards and epsilon decay.\n"
      ],
      "metadata": {
        "id": "aml4wZc05KS_"
      }
    },
    {
      "cell_type": "code",
      "source": [
        "train_dqn(\n",
        "    online_network=q_network,\n",
        "    target_network=target_network,\n",
        "    env=env,\n",
        "    buffer=buffer,\n",
        "    loss_fn=loss_fn,\n",
        "    optimizer=optimizer,\n",
        "    num_episodes=num_episodes,\n",
        "    batch_size=batch_size,\n",
        "    gamma=gamma,\n",
        "    epsilon=epsilon,\n",
        "    epsilon_min=epsilon_min,\n",
        "    epsilon_decay=epsilon_decay,\n",
        "    target_update_freq=target_update_freq,\n",
        ")\n"
      ],
      "metadata": {
        "id": "bQ_LXZsU5Lq9"
      },
      "execution_count": null,
      "outputs": []
    },
    {
      "cell_type": "markdown",
      "source": [
        "## Evaluate Trained Policy\n",
        "\n",
        "After training, evaluate the learned policy over multiple episodes.\n"
      ],
      "metadata": {
        "id": "8GWOg3Qs5P0S"
      }
    },
    {
      "cell_type": "code",
      "source": [
        "avg_reward_after = evaluate_policy(q_network, env, episodes=test_iters)\n",
        "print(f\"Average reward after training over {test_iters} episodes: {avg_reward_after:.2f}\")\n"
      ],
      "metadata": {
        "id": "0Uvzu3hB5SPV"
      },
      "execution_count": null,
      "outputs": []
    },
    {
      "cell_type": "markdown",
      "source": [
        "## Visualize the Agent\n",
        "\n",
        "Let's watch the trained agent play CartPole.\n"
      ],
      "metadata": {
        "id": "nPAtT-yg5UZc"
      }
    },
    {
      "cell_type": "code",
      "source": [
        "import time\n",
        "obs = env.reset()\n",
        "done = False\n",
        "while not done:\n",
        "    env.render()\n",
        "    with torch.no_grad():\n",
        "        state_tensor = torch.FloatTensor(obs).unsqueeze(0)\n",
        "        action = q_network(state_tensor).argmax().item()\n",
        "    obs, reward, terminated, truncated, _ = env.step(action)\n",
        "    done = terminated or truncated\n",
        "    time.sleep(0.02)\n",
        "env.close()\n"
      ],
      "metadata": {
        "id": "bPy0JySx5cXU"
      },
      "execution_count": null,
      "outputs": []
    },
    {
      "cell_type": "markdown",
      "source": [
        "## Summary\n",
        "\n",
        "- We successfully trained a DQN agent to solve CartPole-v1.\n",
        "- The average reward increased significantly from random performance.\n",
        "- The modular code structure helps in easy experimentation and extensions.\n",
        "\n",
        "Feel free to experiment with hyperparameters or the network architecture!\n",
        "\n",
        "---\n",
        "\n",
        "Thank you for checking out this demo!\n"
      ],
      "metadata": {
        "id": "L98U6LPz5fTD"
      }
    },
    {
      "cell_type": "code",
      "source": [],
      "metadata": {
        "id": "9HKOJL015iIi"
      },
      "execution_count": null,
      "outputs": []
    }
  ]
}